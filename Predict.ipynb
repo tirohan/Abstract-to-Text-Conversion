{
 "cells": [
  {
   "cell_type": "markdown",
   "id": "269b1361-9146-4a52-8e96-ded38dec4fac",
   "metadata": {},
   "source": [
    "# Predictions using the Inference Module"
   ]
  },
  {
   "cell_type": "code",
   "execution_count": null,
   "id": "dcce58e1-c7fe-438b-b1dc-a3e34e56020c",
   "metadata": {
    "scrolled": true,
    "tags": []
   },
   "outputs": [],
   "source": [
    "# pip install -r requirements.txt"
   ]
  },
  {
   "cell_type": "code",
   "execution_count": 4,
   "id": "ddb5dc4b-42b1-480c-8995-c87d040218ed",
   "metadata": {
    "execution": {
     "iopub.execute_input": "2021-11-19T17:27:46.328468Z",
     "iopub.status.busy": "2021-11-19T17:27:46.328152Z",
     "iopub.status.idle": "2021-11-19T17:27:46.331713Z",
     "shell.execute_reply": "2021-11-19T17:27:46.330966Z",
     "shell.execute_reply.started": "2021-11-19T17:27:46.328445Z"
    },
    "tags": []
   },
   "outputs": [],
   "source": [
    "from inference import Abstract2Title"
   ]
  },
  {
   "cell_type": "code",
   "execution_count": 6,
   "id": "49f532ff-ccb2-4502-97b6-220b152f0b1d",
   "metadata": {
    "execution": {
     "iopub.execute_input": "2021-11-19T17:27:51.022276Z",
     "iopub.status.busy": "2021-11-19T17:27:51.021789Z",
     "iopub.status.idle": "2021-11-19T17:27:55.979621Z",
     "shell.execute_reply": "2021-11-19T17:27:55.978981Z",
     "shell.execute_reply.started": "2021-11-19T17:27:51.022250Z"
    },
    "tags": []
   },
   "outputs": [],
   "source": [
    "model = Abstract2Title('model')"
   ]
  },
  {
   "cell_type": "code",
   "execution_count": 7,
   "id": "25c3f8e5-3092-45df-ae07-daf691400a4d",
   "metadata": {
    "execution": {
     "iopub.execute_input": "2021-11-19T17:28:24.208379Z",
     "iopub.status.busy": "2021-11-19T17:28:24.208050Z",
     "iopub.status.idle": "2021-11-19T17:28:24.212449Z",
     "shell.execute_reply": "2021-11-19T17:28:24.211706Z",
     "shell.execute_reply.started": "2021-11-19T17:28:24.208355Z"
    }
   },
   "outputs": [],
   "source": [
    "abstract = \"\"\"State-of-the-art computer vision systems are\n",
    "trained to predict a fixed set of predetermined\n",
    "object categories. This restricted form of supervision\n",
    "limits their generality and usability since\n",
    "additional labeled data is needed to specify any\n",
    "other visual concept. Learning directly from raw\n",
    "text about images is a promising alternative which\n",
    "leverages a much broader source of supervision.\n",
    "We demonstrate that the simple pre-training task\n",
    "of predicting which caption goes with which image\n",
    "is an efficient and scalable way to learn SOTA\n",
    "image representations from scratch on a dataset\n",
    "of 400 million (image, text) pairs collected from\n",
    "the internet. After pre-training, natural language\n",
    "is used to reference learned visual concepts (or\n",
    "describe new ones) enabling zero-shot transfer\n",
    "of the model to downstream tasks. We study\n",
    "the performance of this approach by benchmarking\n",
    "on over 30 different existing computer vision\n",
    "datasets, spanning tasks such as OCR, action\n",
    "recognition in videos, geo-localization, and\n",
    "many types of fine-grained object classification.\n",
    "The model transfers non-trivially to most tasks\n",
    "and is often competitive with a fully supervised\n",
    "baseline without the need for any dataset specific\n",
    "training. For instance, we match the accuracy\n",
    "of the original ResNet-50 on ImageNet\n",
    "zero-shot without needing to use any of the 1.28\n",
    "million training examples it was trained on.\"\"\""
   ]
  },
  {
   "cell_type": "code",
   "execution_count": 9,
   "id": "6ed78f24-f4e4-4564-8629-fca7661b5bfe",
   "metadata": {
    "execution": {
     "iopub.execute_input": "2021-11-19T17:28:55.931975Z",
     "iopub.status.busy": "2021-11-19T17:28:55.931510Z",
     "iopub.status.idle": "2021-11-19T17:28:58.445468Z",
     "shell.execute_reply": "2021-11-19T17:28:58.444737Z",
     "shell.execute_reply.started": "2021-11-19T17:28:55.931950Z"
    },
    "tags": []
   },
   "outputs": [
    {
     "name": "stdout",
     "output_type": "stream",
     "text": [
      "Zero-shot Transfer of SOTA Image Representations from Text\n",
      "CPU times: user 2.48 s, sys: 28.4 ms, total: 2.51 s\n",
      "Wall time: 2.51 s\n"
     ]
    }
   ],
   "source": [
    "%%time\n",
    "title = model(abstract)\n",
    "print(title)"
   ]
  },
  {
   "cell_type": "code",
   "execution_count": null,
   "id": "116e65f9-8351-4ca8-959d-994bb1d62bf5",
   "metadata": {},
   "outputs": [],
   "source": []
  }
 ],
 "metadata": {
  "kernelspec": {
   "display_name": "PyTorch 1.9",
   "language": "python",
   "name": "pytorch"
  },
  "language_info": {
   "codemirror_mode": {
    "name": "ipython",
    "version": 3
   },
   "file_extension": ".py",
   "mimetype": "text/x-python",
   "name": "python",
   "nbconvert_exporter": "python",
   "pygments_lexer": "ipython3",
   "version": "3.8.8"
  },
  "widgets": {
   "application/vnd.jupyter.widget-state+json": {
    "state": {},
    "version_major": 2,
    "version_minor": 0
   }
  }
 },
 "nbformat": 4,
 "nbformat_minor": 5
}
