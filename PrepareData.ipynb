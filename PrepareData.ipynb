{
 "cells": [
  {
   "cell_type": "markdown",
   "metadata": {},
   "source": [
    "# Prepare Dataset"
   ]
  },
  {
   "cell_type": "code",
   "execution_count": 12,
   "metadata": {},
   "outputs": [],
   "source": [
    "from datasets import load_dataset"
   ]
  },
  {
   "cell_type": "markdown",
   "metadata": {},
   "source": [
    "1. filter cs.AI\n",
    "2. select features\n",
    "3. train test split\n",
    "4. preprocess dataset with tokenizer\n",
    "5. sample 32 examples and overfit"
   ]
  },
  {
   "cell_type": "code",
   "execution_count": 13,
   "metadata": {},
   "outputs": [
    {
     "name": "stderr",
     "output_type": "stream",
     "text": [
      "Using custom data configuration default-538218d2d51868c8\n",
      "Reusing dataset json (C:\\Users\\bhave\\.cache\\huggingface\\datasets\\json\\default-538218d2d51868c8\\0.0.0\\c2d554c3377ea79c7664b93dc65d0803b45e3279000f993c7bfd18937fd7f426)\n",
      "100%|██████████| 1/1 [00:04<00:00,  4.91s/it]\n"
     ]
    }
   ],
   "source": [
    "# Load full dataset of 1.9 million examples\n",
    "full_dataset = load_dataset(\"json\", data_files='./data/arxiv-metadata-oai-snapshot.json')"
   ]
  },
  {
   "cell_type": "code",
   "execution_count": 14,
   "metadata": {},
   "outputs": [
    {
     "name": "stderr",
     "output_type": "stream",
     "text": [
      "Loading cached processed dataset at C:\\Users\\bhave\\.cache\\huggingface\\datasets\\json\\default-538218d2d51868c8\\0.0.0\\c2d554c3377ea79c7664b93dc65d0803b45e3279000f993c7bfd18937fd7f426\\cache-754a77d67d0b87e7.arrow\n"
     ]
    }
   ],
   "source": [
    "# Filter examples containing papers from thes cs.AI category\n",
    "dataset = full_dataset.filter(lambda example: 'cs.AI' in example['categories'])"
   ]
  },
  {
   "cell_type": "code",
   "execution_count": 15,
   "metadata": {},
   "outputs": [
    {
     "data": {
      "text/plain": [
       "DatasetDict({\n",
       "    train: Dataset({\n",
       "        features: ['title', 'abstract'],\n",
       "        num_rows: 40083\n",
       "    })\n",
       "})"
      ]
     },
     "execution_count": 15,
     "metadata": {},
     "output_type": "execute_result"
    }
   ],
   "source": [
    "# Remove unwanted columns and keep only abstract and title\n",
    "cols_to_remove = list(dataset['train'].features.keys())\n",
    "cols_to_remove.remove('abstract')\n",
    "cols_to_remove.remove('title')\n",
    "\n",
    "dataset = dataset.remove_columns(cols_to_remove)\n",
    "dataset"
   ]
  },
  {
   "cell_type": "code",
   "execution_count": 16,
   "metadata": {},
   "outputs": [
    {
     "data": {
      "text/plain": [
       "DatasetDict({\n",
       "    train: Dataset({\n",
       "        features: ['title', 'abstract'],\n",
       "        num_rows: 36074\n",
       "    })\n",
       "    test: Dataset({\n",
       "        features: ['title', 'abstract'],\n",
       "        num_rows: 2005\n",
       "    })\n",
       "    val: Dataset({\n",
       "        features: ['title', 'abstract'],\n",
       "        num_rows: 2004\n",
       "    })\n",
       "})"
      ]
     },
     "execution_count": 16,
     "metadata": {},
     "output_type": "execute_result"
    }
   ],
   "source": [
    "# Split the dataset\n",
    "dataset = dataset['train'].train_test_split(test_size=0.1)\n",
    "\n",
    "test_val = dataset['test'].train_test_split(test_size=0.5)\n",
    "dataset['val'] = test_val['train']\n",
    "dataset['test'] = test_val['test']\n",
    "\n",
    "dataset"
   ]
  },
  {
   "cell_type": "code",
   "execution_count": 18,
   "metadata": {},
   "outputs": [
    {
     "name": "stderr",
     "output_type": "stream",
     "text": [
      "Loading cached processed dataset at C:\\Users\\bhave\\.cache\\huggingface\\datasets\\json\\default-538218d2d51868c8\\0.0.0\\c2d554c3377ea79c7664b93dc65d0803b45e3279000f993c7bfd18937fd7f426\\cache-b8a33b2a9c05e5c0.arrow\n",
      "Flattening the indices: 100%|██████████| 3/3 [00:00<00:00, 70.26ba/s]\n",
      "Flattening the indices: 100%|██████████| 3/3 [00:00<00:00, 41.10ba/s]\n"
     ]
    }
   ],
   "source": [
    "# Save the processed dataset to disk\n",
    "dataset.save_to_disk('arxiv_AI_dataset')"
   ]
  },
  {
   "cell_type": "code",
   "execution_count": null,
   "metadata": {},
   "outputs": [],
   "source": []
  }
 ],
 "metadata": {
  "interpreter": {
   "hash": "60fbf1aecf0122793952a73a80d27bc8732eff9e143c13520ca117508929b1c7"
  },
  "kernelspec": {
   "display_name": "Python 3.8.10 64-bit ('ai': conda)",
   "language": "python",
   "name": "python3"
  },
  "language_info": {
   "codemirror_mode": {
    "name": "ipython",
    "version": 3
   },
   "file_extension": ".py",
   "mimetype": "text/x-python",
   "name": "python",
   "nbconvert_exporter": "python",
   "pygments_lexer": "ipython3",
   "version": "3.8.10"
  },
  "orig_nbformat": 4
 },
 "nbformat": 4,
 "nbformat_minor": 2
}
